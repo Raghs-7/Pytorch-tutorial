{
  "nbformat": 4,
  "nbformat_minor": 0,
  "metadata": {
    "colab": {
      "provenance": [],
      "authorship_tag": "ABX9TyNfIJS6UsYc8+U86aVj0c7a",
      "include_colab_link": true
    },
    "kernelspec": {
      "name": "python3",
      "display_name": "Python 3"
    },
    "language_info": {
      "name": "python"
    }
  },
  "cells": [
    {
      "cell_type": "markdown",
      "metadata": {
        "id": "view-in-github",
        "colab_type": "text"
      },
      "source": [
        "<a href=\"https://colab.research.google.com/github/Raghs-7/Pytorch-tutorial/blob/main/IIS_q1_2024450.ipynb\" target=\"_parent\"><img src=\"https://colab.research.google.com/assets/colab-badge.svg\" alt=\"Open In Colab\"/></a>"
      ]
    },
    {
      "cell_type": "code",
      "execution_count": 7,
      "metadata": {
        "colab": {
          "base_uri": "https://localhost:8080/"
        },
        "id": "7GFtfu7TY0t8",
        "outputId": "8a54c013-74fe-4f0c-8a4d-b319a0850222"
      },
      "outputs": [
        {
          "output_type": "stream",
          "name": "stderr",
          "text": [
            "[nltk_data] Downloading package punkt_tab to /root/nltk_data...\n",
            "[nltk_data]   Unzipping tokenizers/punkt_tab.zip.\n",
            "[nltk_data] Downloading package stopwords to /root/nltk_data...\n",
            "[nltk_data]   Package stopwords is already up-to-date!\n",
            "[nltk_data] Downloading package wordnet to /root/nltk_data...\n",
            "[nltk_data]   Package wordnet is already up-to-date!\n"
          ]
        }
      ],
      "source": [
        "import nltk\n",
        "nltk.download('punkt_tab')\n",
        "nltk.download('stopwords')\n",
        "nltk.download('wordnet')\n",
        "import pandas as pd\n",
        "import numpy as np\n",
        "from nltk.tokenize import word_tokenize\n",
        "from nltk.corpus import stopwords\n",
        "from nltk.stem import WordNetLemmatizer\n",
        "from sklearn.feature_extraction.text import CountVectorizer\n",
        "from sklearn.feature_extraction.text import TfidfVectorizer\n",
        "import matplotlib.pyplot as plt\n",
        "from sklearn.svm import LinearSVC\n",
        "from sklearn.model_selection import train_test_split\n",
        "from sklearn.metrics import accuracy_score # for accuracy score\n",
        "from scipy.sparse import hstack # to combine the both BOW and TF-IDF\n",
        "from sklearn.metrics import accuracy_score, precision_score, recall_score, f1_score # for accuracy and all\n"
      ]
    },
    {
      "cell_type": "code",
      "source": [
        "df = pd.read_csv(\"train_data.csv\")\n",
        "print(df.head())\n",
        "labels = df['HS'].to_numpy()\n",
        "\n",
        "HS_count = {}\n",
        "for label in labels:\n",
        "    HS_count[label] = HS_count.get(label, 0) + 1\n",
        "\n",
        "print(f\"Non-HS (0): {HS_count[0]} samples\")\n",
        "print(f\"HS (1): {HS_count[1]} samples\")\n",
        "\n",
        "plt.figure(figsize=(8, 5))\n",
        "plt.bar(['Non-HS', 'HS'], HS_count.values())\n",
        "plt.xlabel('Hate Speech')\n",
        "plt.ylabel('Number of sentences')\n",
        "plt.title('Hate Speech Class Distribution')\n",
        "plt.savefig('HS_distribution.png')\n",
        "plt.show()"
      ],
      "metadata": {
        "colab": {
          "base_uri": "https://localhost:8080/",
          "height": 633
        },
        "id": "3MUyJtaZZJ3q",
        "outputId": "6527bf34-ac77-44eb-d0e1-82c15842b803"
      },
      "execution_count": 8,
      "outputs": [
        {
          "output_type": "stream",
          "name": "stdout",
          "text": [
            "     id                                               text  HS\n",
            "0  6452  @indigomermaidd You're the exception , you wer...   1\n",
            "1  4884  If a woman doesn't want you just unleash your ...   1\n",
            "2  1931  Son of Jamestown, Protestants that made the US...   0\n",
            "3  4942  Literally just got hit by a car bc this dumb b...   1\n",
            "4  4721  charli: fuck you bitch charli: omg why am i so...   1\n",
            "Non-HS (0): 3455 samples\n",
            "HS (1): 2544 samples\n"
          ]
        },
        {
          "output_type": "display_data",
          "data": {
            "text/plain": [
              "<Figure size 800x500 with 1 Axes>"
            ],
            "image/png": "[encoded data removed]"
          },
          "metadata": {}
        }
      ]
    },
    {
      "cell_type": "code",
      "source": [
        "sentences_array = df['text'].to_numpy()\n",
        "\n",
        "lemmatizer = WordNetLemmatizer()\n",
        "preprocessed_data = []\n",
        "stop_words = stopwords.words('english')\n",
        "for sentence in sentences_array:\n",
        "    tokens = word_tokenize(str(sentence).lower())\n",
        "    filtered_tokens = [w for w in tokens if w.lower() not in stop_words]\n",
        "    lemmatized = [lemmatizer.lemmatize(word) for word in filtered_tokens]\n",
        "    preprocessed_data.append(' '.join(lemmatized))\n",
        "\n",
        "preprocessed_sentences = np.array(preprocessed_data)"
      ],
      "metadata": {
        "id": "pMEvgtZuZRP6"
      },
      "execution_count": 9,
      "outputs": []
    },
    {
      "cell_type": "code",
      "source": [
        "vectorizer_bow = CountVectorizer(ngram_range=(1,2))\n",
        "x = vectorizer_bow.fit_transform(preprocessed_sentences)\n",
        "print(\"BOW : \")\n",
        "print(x.toarray())\n",
        "\n",
        "vectorizer_ifidf = TfidfVectorizer(ngram_range=(1, 2))\n",
        "y = vectorizer_ifidf.fit_transform(preprocessed_sentences)\n",
        "print(\"TF-IDF :\")\n",
        "print(y.toarray())\n",
        "\n",
        "# Training\n",
        "x_combined = hstack([x, y])\n",
        "x_train, x_test, y_train, y_test = train_test_split(x_combined, labels, test_size=0.2, random_state=42)\n",
        "clf = LinearSVC()\n",
        "clf.fit(x_train, y_train)\n",
        "\n",
        "y_pred = clf.predict(x_test)\n",
        "accuracy = accuracy_score(y_test, y_pred)\n",
        "precision = precision_score(y_test, y_pred, average='binary')\n",
        "recall = recall_score(y_test, y_pred, average='binary')\n",
        "f1 = f1_score(y_test, y_pred, average='binary')\n",
        "\n",
        "print(\"Evaluation on 20% of Training Data (Validation Set):\")\n",
        "print(\"Accuracy:\", accuracy)\n",
        "print(\"Precision:\", precision)\n",
        "print(\"Recall:\", recall)\n",
        "print(\"F1 Score:\", f1)\n"
      ],
      "metadata": {
        "colab": {
          "base_uri": "https://localhost:8080/"
        },
        "id": "faxxQA72ZTKt",
        "outputId": "616ad4eb-3cd8-41db-8012-95bbc82929c4"
      },
      "execution_count": 10,
      "outputs": [
        {
          "output_type": "stream",
          "name": "stdout",
          "text": [
            "BOW : \n",
            "[[0 0 0 ... 0 0 0]\n",
            " [0 0 0 ... 0 0 0]\n",
            " [0 0 0 ... 0 0 0]\n",
            " ...\n",
            " [0 0 0 ... 0 0 0]\n",
            " [0 0 0 ... 0 0 0]\n",
            " [0 0 0 ... 0 0 0]]\n",
            "TF-IDF :\n",
            "[[0. 0. 0. ... 0. 0. 0.]\n",
            " [0. 0. 0. ... 0. 0. 0.]\n",
            " [0. 0. 0. ... 0. 0. 0.]\n",
            " ...\n",
            " [0. 0. 0. ... 0. 0. 0.]\n",
            " [0. 0. 0. ... 0. 0. 0.]\n",
            " [0. 0. 0. ... 0. 0. 0.]]\n",
            "Evaluation on 20% of Training Data (Validation Set):\n",
            "Accuracy: 0.7733333333333333\n",
            "Precision: 0.739514348785872\n",
            "Recall: 0.6850715746421268\n",
            "F1 Score: 0.7112526539278131\n"
          ]
        }
      ]
    },
    {
      "cell_type": "code",
      "source": [
        "df1 = pd.read_csv(\"test.csv\")\n",
        "test_sentences_array = df1['text'].to_numpy()\n",
        "\n",
        "test_preprocessed_data = []\n",
        "for sentence in test_sentences_array:\n",
        "    tokens = word_tokenize(str(sentence).lower())\n",
        "    filtered_tokens = [w for w in tokens if w.lower() not in stop_words]\n",
        "    lemmatized = [lemmatizer.lemmatize(word) for word in filtered_tokens]\n",
        "    test_preprocessed_data.append(' '.join(lemmatized))\n",
        "\n",
        "test_preprocessed_sentences = np.array(test_preprocessed_data)\n",
        "\n",
        "x_test_bow = vectorizer_bow.transform(test_preprocessed_sentences)\n",
        "x_test_tfidf = vectorizer_ifidf.transform(test_preprocessed_sentences)\n",
        "x_test_combined = hstack([x_test_bow, x_test_tfidf])\n",
        "\n",
        "test_predictions = clf.predict(x_test_combined)\n",
        "\n",
        "predictions_df = pd.DataFrame({'text': df1['text'],'predicted_HS': test_predictions})\n",
        "\n",
        "predictions_df.to_csv('test_predictions.csv', index=False)\n",
        "print(\"Predictions saved to 'test_predictions.csv'\")\n"
      ],
      "metadata": {
        "colab": {
          "base_uri": "https://localhost:8080/"
        },
        "id": "tVqi3YkwZUOa",
        "outputId": "49e4a8e0-def3-43b2-ca28-62505ba80d80"
      },
      "execution_count": 11,
      "outputs": [
        {
          "output_type": "stream",
          "name": "stdout",
          "text": [
            "Predictions saved to 'test_predictions.csv'\n"
          ]
        }
      ]
    },
    {
      "cell_type": "code",
      "source": [
        "'''\n",
        "\n",
        "bag of word --> BOW treats all words equally\n",
        "TF-IDF --> TF-IDF don't treat all words equally, it oftern captures usefull info which leads to better prediction\n",
        "\n",
        "'''"
      ],
      "metadata": {
        "colab": {
          "base_uri": "https://localhost:8080/",
          "height": 36
        },
        "id": "JioGX0YyZd7F",
        "outputId": "dd241b21-bd16-4058-8935-115c7a7aa667"
      },
      "execution_count": 12,
      "outputs": [
        {
          "output_type": "execute_result",
          "data": {
            "text/plain": [
              "\"\\n\\nbag of word --> BOW treats all words equally\\nTF-IDF --> TF-IDF don't treat all words equally, it oftern captures usefull info which leads to better prediction\\n\\n\""
            ],
            "application/vnd.google.colaboratory.intrinsic+json": {
              "type": "string"
            }
          },
          "metadata": {},
          "execution_count": 12
        }
      ]
    }
  ]
}